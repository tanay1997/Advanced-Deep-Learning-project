{
  "nbformat": 4,
  "nbformat_minor": 0,
  "metadata": {
    "colab": {
      "name": "Deep Learning Project Improved.ipynb",
      "provenance": [],
      "collapsed_sections": []
    },
    "kernelspec": {
      "name": "python2",
      "display_name": "Python 2"
    }
  },
  "cells": [
    {
      "cell_type": "code",
      "metadata": {
        "id": "4s0k9Vn1xVPn",
        "colab_type": "code",
        "outputId": "119c784a-ce38-4095-dbeb-a12ab459ba1f",
        "colab": {
          "base_uri": "https://localhost:8080/",
          "height": 125
        }
      },
      "source": [
        "from google.colab import drive\n",
        "drive.mount('/content/drive')"
      ],
      "execution_count": 0,
      "outputs": [
        {
          "output_type": "stream",
          "text": [
            "Go to this URL in a browser: https://accounts.google.com/o/oauth2/auth?client_id=947318989803-6bn6qk8qdgf4n4g3pfee6491hc0brc4i.apps.googleusercontent.com&redirect_uri=urn%3aietf%3awg%3aoauth%3a2.0%3aoob&response_type=code&scope=email%20https%3a%2f%2fwww.googleapis.com%2fauth%2fdocs.test%20https%3a%2f%2fwww.googleapis.com%2fauth%2fdrive%20https%3a%2f%2fwww.googleapis.com%2fauth%2fdrive.photos.readonly%20https%3a%2f%2fwww.googleapis.com%2fauth%2fpeopleapi.readonly\n",
            "\n",
            "Enter your authorization code:\n",
            "··········\n",
            "Mounted at /content/drive\n"
          ],
          "name": "stdout"
        }
      ]
    },
    {
      "cell_type": "code",
      "metadata": {
        "id": "w5EgTxJGLbTb",
        "colab_type": "code",
        "outputId": "6f493c1c-f1ae-4b03-9a3a-8b189e12e56a",
        "colab": {
          "base_uri": "https://localhost:8080/",
          "height": 34
        }
      },
      "source": [
        "%tensorflow_version 1.x"
      ],
      "execution_count": 0,
      "outputs": [
        {
          "output_type": "stream",
          "text": [
            "TensorFlow 1.x selected.\n"
          ],
          "name": "stdout"
        }
      ]
    },
    {
      "cell_type": "code",
      "metadata": {
        "id": "7ls1S7tklhfK",
        "colab_type": "code",
        "outputId": "7a65d67f-4f80-4bb9-8f4d-ee32d99144e5",
        "colab": {
          "base_uri": "https://localhost:8080/",
          "height": 34
        }
      },
      "source": [
        "import os\n",
        "import cv2\n",
        "import numpy\n",
        "import imageio\n",
        "from sklearn.metrics import confusion_matrix\n",
        "from keras.models import Sequential\n",
        "from keras.layers.core import Dense, Dropout, Activation, Flatten\n",
        "from keras.layers.convolutional import Convolution3D, MaxPooling3D\n",
        "from keras.optimizers import SGD, RMSprop\n",
        "from keras.callbacks import ModelCheckpoint\n",
        "from keras.utils import np_utils, generic_utils\n",
        "from sklearn.model_selection import train_test_split\n",
        "from sklearn.metrics import confusion_matrix\n",
        "from sklearn import preprocessing\n",
        "from keras import backend as K\n",
        "import sys\n",
        "K.set_image_dim_ordering('th')"
      ],
      "execution_count": 0,
      "outputs": [
        {
          "output_type": "stream",
          "text": [
            "Using TensorFlow backend.\n"
          ],
          "name": "stderr"
        }
      ]
    },
    {
      "cell_type": "code",
      "metadata": {
        "id": "XMuISlVGlp3B",
        "colab_type": "code",
        "colab": {}
      },
      "source": [
        "image_rows, image_columns, image_depth = 64, 64, 18"
      ],
      "execution_count": 0,
      "outputs": []
    },
    {
      "cell_type": "code",
      "metadata": {
        "id": "q8XLOIfimGZe",
        "colab_type": "code",
        "colab": {}
      },
      "source": [
        "training_list = []\n",
        "painpath = '/content/drive/My Drive/Final Training Data/pain'\n",
        "Nopainpath = '/content/drive/My Drive/Final Training Data/Nopain'"
      ],
      "execution_count": 0,
      "outputs": []
    },
    {
      "cell_type": "code",
      "metadata": {
        "id": "P61YaafMmNro",
        "colab_type": "code",
        "colab": {}
      },
      "source": [
        "directorylisting = os.listdir(painpath)"
      ],
      "execution_count": 0,
      "outputs": []
    },
    {
      "cell_type": "code",
      "metadata": {
        "id": "VxDEZAkGmT3b",
        "colab_type": "code",
        "colab": {}
      },
      "source": [
        "for video in os.listdir(painpath):\n",
        "  videopath = os.path.join(painpath, video)\n",
        "  frames = []\n",
        "  for image_path in os.listdir(videopath):\n",
        "        input_path = os.path.join(videopath, image_path)\n",
        "        image = cv2.imread(input_path)\n",
        "        imageresize = cv2.resize(image, (image_rows, image_columns), interpolation = cv2.INTER_AREA)\n",
        "        grayimage = cv2.cvtColor(imageresize, cv2.COLOR_BGR2GRAY)\n",
        "        frames.append(grayimage)\n",
        "  frames = numpy.asarray(frames)\n",
        "  videoarray = numpy.rollaxis(numpy.rollaxis(frames, 2, 0), 2, 0)\n",
        "  training_list.append(videoarray)"
      ],
      "execution_count": 0,
      "outputs": []
    },
    {
      "cell_type": "code",
      "metadata": {
        "id": "AnpXOnbAqZ2f",
        "colab_type": "code",
        "outputId": "02392092-deed-48a6-9ba1-43ace2b16a5a",
        "colab": {
          "base_uri": "https://localhost:8080/",
          "height": 34
        }
      },
      "source": [
        "len(training_list)"
      ],
      "execution_count": 0,
      "outputs": [
        {
          "output_type": "execute_result",
          "data": {
            "text/plain": [
              "25"
            ]
          },
          "metadata": {
            "tags": []
          },
          "execution_count": 8
        }
      ]
    },
    {
      "cell_type": "code",
      "metadata": {
        "id": "olPanCons5fF",
        "colab_type": "code",
        "colab": {}
      },
      "source": [
        "directorylisting = os.listdir(Nopainpath)"
      ],
      "execution_count": 0,
      "outputs": []
    },
    {
      "cell_type": "code",
      "metadata": {
        "id": "Ky6XEo6ztJmg",
        "colab_type": "code",
        "colab": {}
      },
      "source": [
        "for video in os.listdir(Nopainpath):\n",
        "  videopath = os.path.join(Nopainpath, video)\n",
        "  frames = []\n",
        "  for image_path in os.listdir(videopath):\n",
        "        input_path = os.path.join(videopath, image_path)\n",
        "        image = cv2.imread(input_path)\n",
        "        imageresize = cv2.resize(image, (image_rows, image_columns), interpolation = cv2.INTER_AREA)\n",
        "        grayimage = cv2.cvtColor(imageresize, cv2.COLOR_BGR2GRAY)\n",
        "        frames.append(grayimage)\n",
        "  frames = numpy.asarray(frames)\n",
        "  videoarray = numpy.rollaxis(numpy.rollaxis(frames, 2, 0), 2, 0)\n",
        "  training_list.append(videoarray)"
      ],
      "execution_count": 0,
      "outputs": []
    },
    {
      "cell_type": "code",
      "metadata": {
        "id": "6-C5vWfkt79r",
        "colab_type": "code",
        "outputId": "1b98de7e-2bb5-4fd1-92f4-f96f61a4cbe8",
        "colab": {
          "base_uri": "https://localhost:8080/",
          "height": 34
        }
      },
      "source": [
        "len(training_list)"
      ],
      "execution_count": 0,
      "outputs": [
        {
          "output_type": "execute_result",
          "data": {
            "text/plain": [
              "50"
            ]
          },
          "metadata": {
            "tags": []
          },
          "execution_count": 11
        }
      ]
    },
    {
      "cell_type": "code",
      "metadata": {
        "id": "Z99VF2Yyt_nF",
        "colab_type": "code",
        "colab": {}
      },
      "source": [
        "training_list = numpy.asarray(training_list)\n",
        "trainingsamples = len(training_list)\n",
        "traininglabels = numpy.zeros((trainingsamples, ), dtype = int)"
      ],
      "execution_count": 0,
      "outputs": []
    },
    {
      "cell_type": "code",
      "metadata": {
        "id": "neIICc6KuRFg",
        "colab_type": "code",
        "colab": {}
      },
      "source": [
        "traininglabels[0:25] = 0\n",
        "traininglabels[25:50] = 1"
      ],
      "execution_count": 0,
      "outputs": []
    },
    {
      "cell_type": "code",
      "metadata": {
        "id": "BrYkhtEruqup",
        "colab_type": "code",
        "colab": {}
      },
      "source": [
        "traininglabels = np_utils.to_categorical(traininglabels, 2)"
      ],
      "execution_count": 0,
      "outputs": []
    },
    {
      "cell_type": "code",
      "metadata": {
        "id": "mruiC_CEuu6E",
        "colab_type": "code",
        "colab": {}
      },
      "source": [
        "training_data = [training_list, traininglabels]\n",
        "(trainingframes, traininglabels) = (training_data[0], training_data[1])\n",
        "training_set = numpy.zeros((trainingsamples, 1, image_rows, image_columns, image_depth))"
      ],
      "execution_count": 0,
      "outputs": []
    },
    {
      "cell_type": "code",
      "metadata": {
        "id": "P0MoGceJvOAe",
        "colab_type": "code",
        "outputId": "739d13f1-d6cc-4f3d-b37e-552bddf66737",
        "colab": {
          "base_uri": "https://localhost:8080/",
          "height": 34
        }
      },
      "source": [
        "training_set.shape"
      ],
      "execution_count": 0,
      "outputs": [
        {
          "output_type": "execute_result",
          "data": {
            "text/plain": [
              "(50, 1, 64, 64, 18)"
            ]
          },
          "metadata": {
            "tags": []
          },
          "execution_count": 16
        }
      ]
    },
    {
      "cell_type": "code",
      "metadata": {
        "id": "eRoywyzBviU5",
        "colab_type": "code",
        "colab": {}
      },
      "source": [
        "for h in range(trainingsamples):\n",
        "    training_set[h][0][:][:][:] = trainingframes[h, :, :, :]"
      ],
      "execution_count": 0,
      "outputs": []
    },
    {
      "cell_type": "code",
      "metadata": {
        "id": "z2vyYd5Fvl5a",
        "colab_type": "code",
        "colab": {}
      },
      "source": [
        "training_set = training_set.astype('float32')\n",
        "training_set -= numpy.mean(training_set)\n",
        "training_set /= numpy.max(training_set)"
      ],
      "execution_count": 0,
      "outputs": []
    },
    {
      "cell_type": "code",
      "metadata": {
        "id": "RQjm1u_Sv-Kd",
        "colab_type": "code",
        "outputId": "a7a74488-3530-4afe-9022-da586efff0da",
        "colab": {
          "base_uri": "https://localhost:8080/",
          "height": 410
        }
      },
      "source": [
        "model = Sequential()\n",
        "model.add(Convolution3D(4, (3, 3, 15), input_shape=(1, image_rows, image_columns, image_depth), activation='relu'))\n",
        "model.add(MaxPooling3D(pool_size=(3, 3, 3)))\n",
        "model.add(Dropout(0.5))\n",
        "model.add(Flatten())\n",
        "model.add(Dense(2, init='normal'))\n",
        "model.add(Activation('softmax'))\n",
        "model.compile(loss = 'categorical_crossentropy', optimizer = 'SGD', metrics = ['accuracy'])\n",
        "model.summary()"
      ],
      "execution_count": 0,
      "outputs": [
        {
          "output_type": "stream",
          "text": [
            "_________________________________________________________________\n",
            "Layer (type)                 Output Shape              Param #   \n",
            "=================================================================\n",
            "conv3d_2 (Conv3D)            (None, 4, 62, 62, 4)      544       \n",
            "_________________________________________________________________\n",
            "max_pooling3d_2 (MaxPooling3 (None, 4, 20, 20, 1)      0         \n",
            "_________________________________________________________________\n",
            "dropout_2 (Dropout)          (None, 4, 20, 20, 1)      0         \n",
            "_________________________________________________________________\n",
            "flatten_2 (Flatten)          (None, 1600)              0         \n",
            "_________________________________________________________________\n",
            "dense_2 (Dense)              (None, 2)                 3202      \n",
            "_________________________________________________________________\n",
            "activation_2 (Activation)    (None, 2)                 0         \n",
            "=================================================================\n",
            "Total params: 3,746\n",
            "Trainable params: 3,746\n",
            "Non-trainable params: 0\n",
            "_________________________________________________________________\n"
          ],
          "name": "stdout"
        },
        {
          "output_type": "stream",
          "text": [
            "/usr/local/lib/python2.7/dist-packages/ipykernel_launcher.py:6: UserWarning: Update your `Dense` call to the Keras 2 API: `Dense(2, kernel_initializer=\"normal\")`\n",
            "  \n"
          ],
          "name": "stderr"
        }
      ]
    },
    {
      "cell_type": "code",
      "metadata": {
        "id": "7t4SXIh7jjGT",
        "colab_type": "code",
        "colab": {}
      },
      "source": [
        "train_images, validation_images, train_labels, validation_labels =  train_test_split(training_set, traininglabels, test_size=0.3, random_state=4)"
      ],
      "execution_count": 0,
      "outputs": []
    },
    {
      "cell_type": "code",
      "metadata": {
        "id": "0OwnCKFOtQC-",
        "colab_type": "code",
        "outputId": "18e5e029-9931-4682-9527-a2ee2dd0d472",
        "colab": {
          "base_uri": "https://localhost:8080/",
          "height": 747
        }
      },
      "source": [
        "hist = model.fit(train_images, train_labels, validation_data = (validation_images, validation_labels), nb_epoch = 15, shuffle=True)"
      ],
      "execution_count": 0,
      "outputs": [
        {
          "output_type": "stream",
          "text": [
            "/usr/local/lib/python2.7/dist-packages/ipykernel_launcher.py:1: UserWarning: The `nb_epoch` argument in `fit` has been renamed `epochs`.\n",
            "  \"\"\"Entry point for launching an IPython kernel.\n",
            "W0402 19:03:46.580770 140513863133056 deprecation.py:323] From /tensorflow-1.15.2/python2.7/tensorflow_core/python/ops/math_grad.py:1424: where (from tensorflow.python.ops.array_ops) is deprecated and will be removed in a future version.\n",
            "Instructions for updating:\n",
            "Use tf.where in 2.0, which has the same broadcast rule as np.where\n",
            "W0402 19:03:46.679775 140513863133056 module_wrapper.py:139] From /usr/local/lib/python2.7/dist-packages/keras/backend/tensorflow_backend.py:986: The name tf.assign_add is deprecated. Please use tf.compat.v1.assign_add instead.\n",
            "\n",
            "W0402 19:03:46.697853 140513863133056 module_wrapper.py:139] From /usr/local/lib/python2.7/dist-packages/keras/backend/tensorflow_backend.py:973: The name tf.assign is deprecated. Please use tf.compat.v1.assign instead.\n",
            "\n"
          ],
          "name": "stderr"
        },
        {
          "output_type": "stream",
          "text": [
            "Train on 35 samples, validate on 15 samples\n",
            "Epoch 1/15\n",
            "35/35 [==============================] - 3s 77ms/step - loss: 0.7682 - acc: 0.3429 - val_loss: 0.6919 - val_acc: 0.5333\n",
            "Epoch 2/15\n",
            "35/35 [==============================] - 2s 62ms/step - loss: 0.8058 - acc: 0.4286 - val_loss: 0.5363 - val_acc: 0.8000\n",
            "Epoch 3/15\n",
            "35/35 [==============================] - 2s 61ms/step - loss: 0.6651 - acc: 0.4571 - val_loss: 0.4824 - val_acc: 1.0000\n",
            "Epoch 4/15\n",
            "35/35 [==============================] - 2s 63ms/step - loss: 0.5970 - acc: 0.6857 - val_loss: 0.4507 - val_acc: 0.9333\n",
            "Epoch 5/15\n",
            "35/35 [==============================] - 2s 62ms/step - loss: 0.5620 - acc: 0.6571 - val_loss: 0.4052 - val_acc: 0.9333\n",
            "Epoch 6/15\n",
            "35/35 [==============================] - 2s 61ms/step - loss: 0.5259 - acc: 0.7714 - val_loss: 0.3463 - val_acc: 0.9333\n",
            "Epoch 7/15\n",
            "35/35 [==============================] - 2s 61ms/step - loss: 0.4722 - acc: 0.8000 - val_loss: 0.3099 - val_acc: 0.9333\n",
            "Epoch 8/15\n",
            "35/35 [==============================] - 2s 62ms/step - loss: 0.4345 - acc: 0.8571 - val_loss: 0.2399 - val_acc: 0.9333\n",
            "Epoch 9/15\n",
            "35/35 [==============================] - 2s 62ms/step - loss: 0.4549 - acc: 0.8286 - val_loss: 0.1988 - val_acc: 1.0000\n",
            "Epoch 10/15\n",
            "35/35 [==============================] - 2s 62ms/step - loss: 0.4113 - acc: 0.8571 - val_loss: 0.1969 - val_acc: 0.9333\n",
            "Epoch 11/15\n",
            "35/35 [==============================] - 2s 61ms/step - loss: 0.3377 - acc: 0.9143 - val_loss: 0.2241 - val_acc: 0.9333\n",
            "Epoch 12/15\n",
            "35/35 [==============================] - 2s 62ms/step - loss: 0.2070 - acc: 0.9429 - val_loss: 0.1704 - val_acc: 0.9333\n",
            "Epoch 13/15\n",
            "35/35 [==============================] - 2s 61ms/step - loss: 0.2344 - acc: 0.9714 - val_loss: 0.1431 - val_acc: 0.9333\n",
            "Epoch 14/15\n",
            "35/35 [==============================] - 2s 62ms/step - loss: 0.2024 - acc: 0.9714 - val_loss: 0.1529 - val_acc: 0.9333\n",
            "Epoch 15/15\n",
            "35/35 [==============================] - 2s 62ms/step - loss: 0.1867 - acc: 0.9714 - val_loss: 0.1505 - val_acc: 0.9333\n"
          ],
          "name": "stdout"
        }
      ]
    },
    {
      "cell_type": "code",
      "metadata": {
        "id": "dnedPUd9PUI8",
        "colab_type": "code",
        "colab": {}
      },
      "source": [
        "model.save('/content/drive/My Drive/Research project/Pre-trained_model_0.3%.h5')"
      ],
      "execution_count": 0,
      "outputs": []
    },
    {
      "cell_type": "code",
      "metadata": {
        "id": "YhzecT9yj-uJ",
        "colab_type": "code",
        "outputId": "44fc2634-1045-4ae0-9a61-f0dd900aba13",
        "colab": {
          "base_uri": "https://localhost:8080/",
          "height": 52
        }
      },
      "source": [
        "predictions = model.predict(validation_images)\n",
        "predictions_labels = numpy.argmax(predictions, axis=1)\n",
        "validation_labels = numpy.argmax(validation_labels, axis=1)\n",
        "cfm = confusion_matrix(validation_labels, predictions_labels)\n",
        "print (cfm)"
      ],
      "execution_count": 0,
      "outputs": [
        {
          "output_type": "stream",
          "text": [
            "[[8 1]\n",
            " [0 6]]\n"
          ],
          "name": "stdout"
        }
      ]
    }
  ]
}