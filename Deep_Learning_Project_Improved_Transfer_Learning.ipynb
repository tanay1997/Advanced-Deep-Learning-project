{
  "nbformat": 4,
  "nbformat_minor": 0,
  "metadata": {
    "colab": {
      "name": "Deep Learning Project Improved - Transfer Learning.ipynb",
      "provenance": [],
      "collapsed_sections": []
    },
    "kernelspec": {
      "name": "python2",
      "display_name": "Python 2"
    }
  },
  "cells": [
    {
      "cell_type": "code",
      "metadata": {
        "id": "4s0k9Vn1xVPn",
        "colab_type": "code",
        "outputId": "b4ce6ac9-5a26-4859-aff0-5229f9a4d41b",
        "colab": {
          "base_uri": "https://localhost:8080/",
          "height": 125
        }
      },
      "source": [
        "from google.colab import drive\n",
        "drive.mount('/content/drive')"
      ],
      "execution_count": 1,
      "outputs": [
        {
          "output_type": "stream",
          "text": [
            "Go to this URL in a browser: https://accounts.google.com/o/oauth2/auth?client_id=947318989803-6bn6qk8qdgf4n4g3pfee6491hc0brc4i.apps.googleusercontent.com&redirect_uri=urn%3aietf%3awg%3aoauth%3a2.0%3aoob&response_type=code&scope=email%20https%3a%2f%2fwww.googleapis.com%2fauth%2fdocs.test%20https%3a%2f%2fwww.googleapis.com%2fauth%2fdrive%20https%3a%2f%2fwww.googleapis.com%2fauth%2fdrive.photos.readonly%20https%3a%2f%2fwww.googleapis.com%2fauth%2fpeopleapi.readonly\n",
            "\n",
            "Enter your authorization code:\n",
            "··········\n",
            "Mounted at /content/drive\n"
          ],
          "name": "stdout"
        }
      ]
    },
    {
      "cell_type": "code",
      "metadata": {
        "id": "w5EgTxJGLbTb",
        "colab_type": "code",
        "outputId": "f0f300ac-a47b-4faa-f947-732a7f774bde",
        "colab": {
          "base_uri": "https://localhost:8080/",
          "height": 34
        }
      },
      "source": [
        "%tensorflow_version 1.x"
      ],
      "execution_count": 0,
      "outputs": [
        {
          "output_type": "stream",
          "text": [
            "TensorFlow 1.x selected.\n"
          ],
          "name": "stdout"
        }
      ]
    },
    {
      "cell_type": "code",
      "metadata": {
        "id": "7ls1S7tklhfK",
        "colab_type": "code",
        "outputId": "efee1c63-d0d8-45cd-ed0b-0e9b57bc9122",
        "colab": {
          "base_uri": "https://localhost:8080/",
          "height": 34
        }
      },
      "source": [
        "import os\n",
        "import cv2\n",
        "import numpy\n",
        "import imageio\n",
        "from sklearn.metrics import confusion_matrix\n",
        "from keras.models import Sequential\n",
        "from keras.layers.core import Dense, Dropout, Activation, Flatten\n",
        "from keras.layers.convolutional import Convolution3D, MaxPooling3D\n",
        "from keras.optimizers import SGD, RMSprop\n",
        "from keras.callbacks import ModelCheckpoint\n",
        "from keras.utils import np_utils, generic_utils\n",
        "from sklearn.model_selection import train_test_split\n",
        "from sklearn.metrics import confusion_matrix\n",
        "from sklearn import preprocessing\n",
        "from keras import backend as K\n",
        "import sys\n",
        "K.set_image_dim_ordering('th')"
      ],
      "execution_count": 0,
      "outputs": [
        {
          "output_type": "stream",
          "text": [
            "Using TensorFlow backend.\n"
          ],
          "name": "stderr"
        }
      ]
    },
    {
      "cell_type": "code",
      "metadata": {
        "id": "XMuISlVGlp3B",
        "colab_type": "code",
        "colab": {}
      },
      "source": [
        "image_rows, image_columns, image_depth = 64, 64, 18"
      ],
      "execution_count": 0,
      "outputs": []
    },
    {
      "cell_type": "code",
      "metadata": {
        "id": "q8XLOIfimGZe",
        "colab_type": "code",
        "colab": {}
      },
      "source": [
        "training_list = []\n",
        "painpath = '/content/drive/My Drive/Final Training Data/pain'\n",
        "Nopainpath = '/content/drive/My Drive/Final Training Data/Nopain'"
      ],
      "execution_count": 0,
      "outputs": []
    },
    {
      "cell_type": "code",
      "metadata": {
        "id": "P61YaafMmNro",
        "colab_type": "code",
        "colab": {}
      },
      "source": [
        "directorylisting = os.listdir(painpath)"
      ],
      "execution_count": 0,
      "outputs": []
    },
    {
      "cell_type": "code",
      "metadata": {
        "id": "VxDEZAkGmT3b",
        "colab_type": "code",
        "colab": {}
      },
      "source": [
        "for video in os.listdir(painpath):\n",
        "  videopath = os.path.join(painpath, video)\n",
        "  frames = []\n",
        "  for image_path in os.listdir(videopath):\n",
        "        input_path = os.path.join(videopath, image_path)\n",
        "        image = cv2.imread(input_path)\n",
        "        imageresize = cv2.resize(image, (image_rows, image_columns), interpolation = cv2.INTER_AREA)\n",
        "        grayimage = cv2.cvtColor(imageresize, cv2.COLOR_BGR2GRAY)\n",
        "        frames.append(grayimage)\n",
        "  frames = numpy.asarray(frames)\n",
        "  videoarray = numpy.rollaxis(numpy.rollaxis(frames, 2, 0), 2, 0)\n",
        "  training_list.append(videoarray)"
      ],
      "execution_count": 0,
      "outputs": []
    },
    {
      "cell_type": "code",
      "metadata": {
        "id": "AnpXOnbAqZ2f",
        "colab_type": "code",
        "outputId": "f9a74be9-43b7-4034-8b80-f797e12191dc",
        "colab": {
          "base_uri": "https://localhost:8080/",
          "height": 34
        }
      },
      "source": [
        "len(training_list)"
      ],
      "execution_count": 0,
      "outputs": [
        {
          "output_type": "execute_result",
          "data": {
            "text/plain": [
              "25"
            ]
          },
          "metadata": {
            "tags": []
          },
          "execution_count": 8
        }
      ]
    },
    {
      "cell_type": "code",
      "metadata": {
        "id": "olPanCons5fF",
        "colab_type": "code",
        "colab": {}
      },
      "source": [
        "directorylisting = os.listdir(Nopainpath)"
      ],
      "execution_count": 0,
      "outputs": []
    },
    {
      "cell_type": "code",
      "metadata": {
        "id": "Ky6XEo6ztJmg",
        "colab_type": "code",
        "colab": {}
      },
      "source": [
        "for video in os.listdir(Nopainpath):\n",
        "  videopath = os.path.join(Nopainpath, video)\n",
        "  frames = []\n",
        "  for image_path in os.listdir(videopath):\n",
        "        input_path = os.path.join(videopath, image_path)\n",
        "        image = cv2.imread(input_path)\n",
        "        imageresize = cv2.resize(image, (image_rows, image_columns), interpolation = cv2.INTER_AREA)\n",
        "        grayimage = cv2.cvtColor(imageresize, cv2.COLOR_BGR2GRAY)\n",
        "        frames.append(grayimage)\n",
        "  frames = numpy.asarray(frames)\n",
        "  videoarray = numpy.rollaxis(numpy.rollaxis(frames, 2, 0), 2, 0)\n",
        "  training_list.append(videoarray)"
      ],
      "execution_count": 0,
      "outputs": []
    },
    {
      "cell_type": "code",
      "metadata": {
        "id": "6-C5vWfkt79r",
        "colab_type": "code",
        "outputId": "25382188-02cb-4cb8-f75a-114c84826641",
        "colab": {
          "base_uri": "https://localhost:8080/",
          "height": 34
        }
      },
      "source": [
        "len(training_list)"
      ],
      "execution_count": 0,
      "outputs": [
        {
          "output_type": "execute_result",
          "data": {
            "text/plain": [
              "50"
            ]
          },
          "metadata": {
            "tags": []
          },
          "execution_count": 11
        }
      ]
    },
    {
      "cell_type": "code",
      "metadata": {
        "id": "Z99VF2Yyt_nF",
        "colab_type": "code",
        "colab": {}
      },
      "source": [
        "training_list = numpy.asarray(training_list)\n",
        "trainingsamples = len(training_list)\n",
        "traininglabels = numpy.zeros((trainingsamples, ), dtype = int)"
      ],
      "execution_count": 0,
      "outputs": []
    },
    {
      "cell_type": "code",
      "metadata": {
        "id": "neIICc6KuRFg",
        "colab_type": "code",
        "colab": {}
      },
      "source": [
        "traininglabels[0:25] = 0\n",
        "traininglabels[25:50] = 1"
      ],
      "execution_count": 0,
      "outputs": []
    },
    {
      "cell_type": "code",
      "metadata": {
        "id": "BrYkhtEruqup",
        "colab_type": "code",
        "colab": {}
      },
      "source": [
        "traininglabels = np_utils.to_categorical(traininglabels, 2)"
      ],
      "execution_count": 0,
      "outputs": []
    },
    {
      "cell_type": "code",
      "metadata": {
        "id": "mruiC_CEuu6E",
        "colab_type": "code",
        "colab": {}
      },
      "source": [
        "training_data = [training_list, traininglabels]\n",
        "(trainingframes, traininglabels) = (training_data[0], training_data[1])\n",
        "training_set = numpy.zeros((trainingsamples, 1, image_rows, image_columns, image_depth))"
      ],
      "execution_count": 0,
      "outputs": []
    },
    {
      "cell_type": "code",
      "metadata": {
        "id": "P0MoGceJvOAe",
        "colab_type": "code",
        "outputId": "1ec7a5c5-e59d-4d6a-90e2-c7705b0730a4",
        "colab": {
          "base_uri": "https://localhost:8080/",
          "height": 34
        }
      },
      "source": [
        "training_set.shape"
      ],
      "execution_count": 0,
      "outputs": [
        {
          "output_type": "execute_result",
          "data": {
            "text/plain": [
              "(50, 1, 64, 64, 18)"
            ]
          },
          "metadata": {
            "tags": []
          },
          "execution_count": 16
        }
      ]
    },
    {
      "cell_type": "code",
      "metadata": {
        "id": "eRoywyzBviU5",
        "colab_type": "code",
        "colab": {}
      },
      "source": [
        "for h in range(trainingsamples):\n",
        "    training_set[h][0][:][:][:] = trainingframes[h, :, :, :]"
      ],
      "execution_count": 0,
      "outputs": []
    },
    {
      "cell_type": "code",
      "metadata": {
        "id": "z2vyYd5Fvl5a",
        "colab_type": "code",
        "colab": {}
      },
      "source": [
        "training_set = training_set.astype('float32')\n",
        "training_set -= numpy.mean(training_set)\n",
        "training_set /= numpy.max(training_set)"
      ],
      "execution_count": 0,
      "outputs": []
    },
    {
      "cell_type": "code",
      "metadata": {
        "id": "RQjm1u_Sv-Kd",
        "colab_type": "code",
        "outputId": "ceb32a29-cd95-40ad-a25b-6bc800c7d728",
        "colab": {
          "base_uri": "https://localhost:8080/",
          "height": 570
        }
      },
      "source": [
        "model = Sequential()\n",
        "model.add(Convolution3D(32, (3, 3, 15), input_shape=(1, image_rows, image_columns, image_depth), activation='relu', trainable = False))\n",
        "model.add(MaxPooling3D(pool_size=(3, 3, 3)))\n",
        "model.add(Dropout(0.5))\n",
        "model.add(Flatten())\n",
        "model.add(Dense(128, init='normal', activation='relu', trainable = True))\n",
        "model.add(Dropout(0.5))\n",
        "model.add(Dense(3, init='normal', trainable = True))"
      ],
      "execution_count": 0,
      "outputs": [
        {
          "output_type": "stream",
          "text": [
            "WARNING: Logging before flag parsing goes to stderr.\n",
            "W0403 03:44:12.019201 140066983888768 module_wrapper.py:139] From /usr/local/lib/python2.7/dist-packages/keras/backend/tensorflow_backend.py:74: The name tf.get_default_graph is deprecated. Please use tf.compat.v1.get_default_graph instead.\n",
            "\n",
            "W0403 03:44:12.037456 140066983888768 module_wrapper.py:139] From /usr/local/lib/python2.7/dist-packages/keras/backend/tensorflow_backend.py:517: The name tf.placeholder is deprecated. Please use tf.compat.v1.placeholder instead.\n",
            "\n",
            "W0403 03:44:12.044023 140066983888768 module_wrapper.py:139] From /usr/local/lib/python2.7/dist-packages/keras/backend/tensorflow_backend.py:4138: The name tf.random_uniform is deprecated. Please use tf.random.uniform instead.\n",
            "\n",
            "W0403 03:44:12.057527 140066983888768 module_wrapper.py:139] From /usr/local/lib/python2.7/dist-packages/keras/backend/tensorflow_backend.py:174: The name tf.get_default_session is deprecated. Please use tf.compat.v1.get_default_session instead.\n",
            "\n",
            "W0403 03:44:12.058690 140066983888768 module_wrapper.py:139] From /usr/local/lib/python2.7/dist-packages/keras/backend/tensorflow_backend.py:181: The name tf.ConfigProto is deprecated. Please use tf.compat.v1.ConfigProto instead.\n",
            "\n",
            "W0403 03:44:12.060806 140066983888768 module_wrapper.py:139] From /usr/local/lib/python2.7/dist-packages/keras/backend/tensorflow_backend.py:186: The name tf.Session is deprecated. Please use tf.compat.v1.Session instead.\n",
            "\n",
            "W0403 03:44:12.172702 140066983888768 module_wrapper.py:139] From /usr/local/lib/python2.7/dist-packages/keras/backend/tensorflow_backend.py:190: The name tf.global_variables is deprecated. Please use tf.compat.v1.global_variables instead.\n",
            "\n",
            "W0403 03:44:12.174037 140066983888768 module_wrapper.py:139] From /usr/local/lib/python2.7/dist-packages/keras/backend/tensorflow_backend.py:199: The name tf.is_variable_initialized is deprecated. Please use tf.compat.v1.is_variable_initialized instead.\n",
            "\n",
            "W0403 03:44:12.258702 140066983888768 module_wrapper.py:139] From /usr/local/lib/python2.7/dist-packages/keras/backend/tensorflow_backend.py:206: The name tf.variables_initializer is deprecated. Please use tf.compat.v1.variables_initializer instead.\n",
            "\n",
            "W0403 03:44:12.360131 140066983888768 module_wrapper.py:139] From /usr/local/lib/python2.7/dist-packages/keras/backend/tensorflow_backend.py:133: The name tf.placeholder_with_default is deprecated. Please use tf.compat.v1.placeholder_with_default instead.\n",
            "\n",
            "W0403 03:44:12.370342 140066983888768 deprecation.py:506] From /usr/local/lib/python2.7/dist-packages/keras/backend/tensorflow_backend.py:3445: calling dropout (from tensorflow.python.ops.nn_ops) with keep_prob is deprecated and will be removed in a future version.\n",
            "Instructions for updating:\n",
            "Please use `rate` instead of `keep_prob`. Rate should be set to `rate = 1 - keep_prob`.\n",
            "/usr/local/lib/python2.7/dist-packages/ipykernel_launcher.py:6: UserWarning: Update your `Dense` call to the Keras 2 API: `Dense(128, activation=\"relu\", trainable=True, kernel_initializer=\"normal\")`\n",
            "  \n",
            "W0403 03:44:12.395207 140066983888768 module_wrapper.py:139] From /usr/local/lib/python2.7/dist-packages/keras/backend/tensorflow_backend.py:4115: The name tf.random_normal is deprecated. Please use tf.random.normal instead.\n",
            "\n",
            "/usr/local/lib/python2.7/dist-packages/ipykernel_launcher.py:8: UserWarning: Update your `Dense` call to the Keras 2 API: `Dense(3, trainable=True, kernel_initializer=\"normal\")`\n",
            "  \n"
          ],
          "name": "stderr"
        }
      ]
    },
    {
      "cell_type": "code",
      "metadata": {
        "id": "a_wrD_IFzVJd",
        "colab_type": "code",
        "colab": {}
      },
      "source": [
        "model.load_weights('/content/drive/My Drive/Micro-exp dataset/dataset_and_weights (1)/dataset_and_weights/weights_microexpstcnn/weights-improvement-40-0.69.hdf5')"
      ],
      "execution_count": 0,
      "outputs": []
    },
    {
      "cell_type": "code",
      "metadata": {
        "id": "_Ef-oQoOztbu",
        "colab_type": "code",
        "outputId": "03161f6f-48b9-4f98-dfae-f8f711b5b699",
        "colab": {
          "base_uri": "https://localhost:8080/",
          "height": 72
        }
      },
      "source": [
        "model.add(Dense(2, init='normal'))\n",
        "model.add(Activation('softmax'))"
      ],
      "execution_count": 0,
      "outputs": [
        {
          "output_type": "stream",
          "text": [
            "/usr/local/lib/python2.7/dist-packages/ipykernel_launcher.py:1: UserWarning: Update your `Dense` call to the Keras 2 API: `Dense(2, kernel_initializer=\"normal\")`\n",
            "  \"\"\"Entry point for launching an IPython kernel.\n"
          ],
          "name": "stderr"
        }
      ]
    },
    {
      "cell_type": "code",
      "metadata": {
        "id": "-Af7yPxYzWOv",
        "colab_type": "code",
        "outputId": "cdd13772-8690-428c-bf84-0500d2dee80a",
        "colab": {
          "base_uri": "https://localhost:8080/",
          "height": 552
        }
      },
      "source": [
        "from keras import optimizers\n",
        "sgd = optimizers.SGD(lr=0.01, decay=1e-6, momentum=0.9, nesterov=True)\n",
        "model.compile(loss = 'categorical_crossentropy', optimizer = sgd, metrics = ['accuracy'])\n",
        "model.summary()"
      ],
      "execution_count": 0,
      "outputs": [
        {
          "output_type": "stream",
          "text": [
            "W0403 03:44:33.741144 140066983888768 module_wrapper.py:139] From /usr/local/lib/python2.7/dist-packages/keras/optimizers.py:790: The name tf.train.Optimizer is deprecated. Please use tf.compat.v1.train.Optimizer instead.\n",
            "\n",
            "W0403 03:44:33.750425 140066983888768 module_wrapper.py:139] From /usr/local/lib/python2.7/dist-packages/keras/backend/tensorflow_backend.py:3295: The name tf.log is deprecated. Please use tf.math.log instead.\n",
            "\n"
          ],
          "name": "stderr"
        },
        {
          "output_type": "stream",
          "text": [
            "_________________________________________________________________\n",
            "Layer (type)                 Output Shape              Param #   \n",
            "=================================================================\n",
            "conv3d_1 (Conv3D)            (None, 32, 62, 62, 4)     4352      \n",
            "_________________________________________________________________\n",
            "max_pooling3d_1 (MaxPooling3 (None, 32, 20, 20, 1)     0         \n",
            "_________________________________________________________________\n",
            "dropout_1 (Dropout)          (None, 32, 20, 20, 1)     0         \n",
            "_________________________________________________________________\n",
            "flatten_1 (Flatten)          (None, 12800)             0         \n",
            "_________________________________________________________________\n",
            "dense_1 (Dense)              (None, 128)               1638528   \n",
            "_________________________________________________________________\n",
            "dropout_2 (Dropout)          (None, 128)               0         \n",
            "_________________________________________________________________\n",
            "dense_2 (Dense)              (None, 3)                 387       \n",
            "_________________________________________________________________\n",
            "dense_3 (Dense)              (None, 2)                 8         \n",
            "_________________________________________________________________\n",
            "activation_1 (Activation)    (None, 2)                 0         \n",
            "=================================================================\n",
            "Total params: 1,643,275\n",
            "Trainable params: 1,638,923\n",
            "Non-trainable params: 4,352\n",
            "_________________________________________________________________\n"
          ],
          "name": "stdout"
        }
      ]
    },
    {
      "cell_type": "code",
      "metadata": {
        "id": "7t4SXIh7jjGT",
        "colab_type": "code",
        "colab": {}
      },
      "source": [
        "train_images, validation_images, train_labels, validation_labels =  train_test_split(training_set, traininglabels, test_size=0.2, random_state=4)"
      ],
      "execution_count": 0,
      "outputs": []
    },
    {
      "cell_type": "code",
      "metadata": {
        "id": "0OwnCKFOtQC-",
        "colab_type": "code",
        "outputId": "519a2d38-0699-4dcd-dc9b-6f749c11423e",
        "colab": {
          "base_uri": "https://localhost:8080/",
          "height": 1000
        }
      },
      "source": [
        "hist = model.fit(train_images, train_labels, validation_data = (validation_images, validation_labels), nb_epoch = 35, shuffle=True)"
      ],
      "execution_count": 0,
      "outputs": [
        {
          "output_type": "stream",
          "text": [
            "/usr/local/lib/python2.7/dist-packages/ipykernel_launcher.py:1: UserWarning: The `nb_epoch` argument in `fit` has been renamed `epochs`.\n",
            "  \"\"\"Entry point for launching an IPython kernel.\n",
            "W0403 03:44:38.163868 140066983888768 deprecation.py:323] From /tensorflow-1.15.2/python2.7/tensorflow_core/python/ops/math_grad.py:1424: where (from tensorflow.python.ops.array_ops) is deprecated and will be removed in a future version.\n",
            "Instructions for updating:\n",
            "Use tf.where in 2.0, which has the same broadcast rule as np.where\n",
            "W0403 03:44:38.258833 140066983888768 module_wrapper.py:139] From /usr/local/lib/python2.7/dist-packages/keras/backend/tensorflow_backend.py:986: The name tf.assign_add is deprecated. Please use tf.compat.v1.assign_add instead.\n",
            "\n",
            "W0403 03:44:38.288322 140066983888768 module_wrapper.py:139] From /usr/local/lib/python2.7/dist-packages/keras/backend/tensorflow_backend.py:973: The name tf.assign is deprecated. Please use tf.compat.v1.assign instead.\n",
            "\n"
          ],
          "name": "stderr"
        },
        {
          "output_type": "stream",
          "text": [
            "Train on 40 samples, validate on 10 samples\n",
            "Epoch 1/35\n",
            "40/40 [==============================] - 2s 45ms/step - loss: 0.7260 - acc: 0.4750 - val_loss: 0.7029 - val_acc: 0.6000\n",
            "Epoch 2/35\n",
            "40/40 [==============================] - 1s 29ms/step - loss: 0.7052 - acc: 0.4500 - val_loss: 0.6883 - val_acc: 0.4000\n",
            "Epoch 3/35\n",
            "40/40 [==============================] - 1s 29ms/step - loss: 0.6805 - acc: 0.5500 - val_loss: 0.6733 - val_acc: 0.4000\n",
            "Epoch 4/35\n",
            "40/40 [==============================] - 1s 31ms/step - loss: 0.6618 - acc: 0.5500 - val_loss: 0.6596 - val_acc: 0.4000\n",
            "Epoch 5/35\n",
            "40/40 [==============================] - 1s 29ms/step - loss: 0.6464 - acc: 0.6000 - val_loss: 0.6476 - val_acc: 0.4000\n",
            "Epoch 6/35\n",
            "40/40 [==============================] - 1s 29ms/step - loss: 0.6238 - acc: 0.6000 - val_loss: 0.6355 - val_acc: 0.4000\n",
            "Epoch 7/35\n",
            "40/40 [==============================] - 1s 29ms/step - loss: 0.5994 - acc: 0.6250 - val_loss: 0.6216 - val_acc: 0.4000\n",
            "Epoch 8/35\n",
            "40/40 [==============================] - 1s 29ms/step - loss: 0.5690 - acc: 0.6500 - val_loss: 0.5999 - val_acc: 0.4000\n",
            "Epoch 9/35\n",
            "40/40 [==============================] - 1s 30ms/step - loss: 0.5500 - acc: 0.6750 - val_loss: 0.5690 - val_acc: 0.7000\n",
            "Epoch 10/35\n",
            "40/40 [==============================] - 1s 30ms/step - loss: 0.5022 - acc: 0.7750 - val_loss: 0.5377 - val_acc: 0.9000\n",
            "Epoch 11/35\n",
            "40/40 [==============================] - 1s 29ms/step - loss: 0.5502 - acc: 0.7250 - val_loss: 0.5064 - val_acc: 0.9000\n",
            "Epoch 12/35\n",
            "40/40 [==============================] - 1s 30ms/step - loss: 0.4780 - acc: 0.7750 - val_loss: 0.4649 - val_acc: 0.9000\n",
            "Epoch 13/35\n",
            "40/40 [==============================] - 1s 30ms/step - loss: 0.4991 - acc: 0.7250 - val_loss: 0.4261 - val_acc: 0.9000\n",
            "Epoch 14/35\n",
            "40/40 [==============================] - 1s 29ms/step - loss: 0.4402 - acc: 0.8750 - val_loss: 0.3949 - val_acc: 0.9000\n",
            "Epoch 15/35\n",
            "40/40 [==============================] - 1s 29ms/step - loss: 0.3778 - acc: 0.9250 - val_loss: 0.3713 - val_acc: 0.9000\n",
            "Epoch 16/35\n",
            "40/40 [==============================] - 1s 30ms/step - loss: 0.3301 - acc: 0.8500 - val_loss: 0.3498 - val_acc: 0.9000\n",
            "Epoch 17/35\n",
            "40/40 [==============================] - 1s 29ms/step - loss: 0.2930 - acc: 0.9500 - val_loss: 0.3172 - val_acc: 0.9000\n",
            "Epoch 18/35\n",
            "40/40 [==============================] - 1s 29ms/step - loss: 0.3201 - acc: 0.9250 - val_loss: 0.2784 - val_acc: 0.9000\n",
            "Epoch 19/35\n",
            "40/40 [==============================] - 1s 29ms/step - loss: 0.2292 - acc: 0.9500 - val_loss: 0.2316 - val_acc: 0.9000\n",
            "Epoch 20/35\n",
            "40/40 [==============================] - 1s 29ms/step - loss: 0.2295 - acc: 0.9000 - val_loss: 0.1811 - val_acc: 0.9000\n",
            "Epoch 21/35\n",
            "40/40 [==============================] - 1s 30ms/step - loss: 0.1580 - acc: 0.9750 - val_loss: 0.1411 - val_acc: 1.0000\n",
            "Epoch 22/35\n",
            "40/40 [==============================] - 1s 29ms/step - loss: 0.1551 - acc: 0.9750 - val_loss: 0.1157 - val_acc: 1.0000\n",
            "Epoch 23/35\n",
            "40/40 [==============================] - 1s 29ms/step - loss: 0.1519 - acc: 0.9750 - val_loss: 0.1017 - val_acc: 1.0000\n",
            "Epoch 24/35\n",
            "40/40 [==============================] - 1s 29ms/step - loss: 0.0934 - acc: 1.0000 - val_loss: 0.0933 - val_acc: 1.0000\n",
            "Epoch 25/35\n",
            "40/40 [==============================] - 1s 29ms/step - loss: 0.0885 - acc: 1.0000 - val_loss: 0.0855 - val_acc: 1.0000\n",
            "Epoch 26/35\n",
            "40/40 [==============================] - 1s 29ms/step - loss: 0.0790 - acc: 0.9750 - val_loss: 0.0790 - val_acc: 1.0000\n",
            "Epoch 27/35\n",
            "40/40 [==============================] - 1s 29ms/step - loss: 0.0485 - acc: 1.0000 - val_loss: 0.0715 - val_acc: 1.0000\n",
            "Epoch 28/35\n",
            "40/40 [==============================] - 1s 29ms/step - loss: 0.1105 - acc: 0.9500 - val_loss: 0.0785 - val_acc: 1.0000\n",
            "Epoch 29/35\n",
            "40/40 [==============================] - 1s 29ms/step - loss: 0.0586 - acc: 0.9750 - val_loss: 0.0792 - val_acc: 1.0000\n",
            "Epoch 30/35\n",
            "40/40 [==============================] - 1s 30ms/step - loss: 0.0440 - acc: 1.0000 - val_loss: 0.0801 - val_acc: 1.0000\n",
            "Epoch 31/35\n",
            "40/40 [==============================] - 1s 29ms/step - loss: 0.0341 - acc: 1.0000 - val_loss: 0.0755 - val_acc: 1.0000\n",
            "Epoch 32/35\n",
            "40/40 [==============================] - 1s 29ms/step - loss: 0.0543 - acc: 1.0000 - val_loss: 0.0756 - val_acc: 1.0000\n",
            "Epoch 33/35\n",
            "40/40 [==============================] - 1s 30ms/step - loss: 0.0574 - acc: 0.9750 - val_loss: 0.0853 - val_acc: 0.9000\n",
            "Epoch 34/35\n",
            "40/40 [==============================] - 1s 29ms/step - loss: 0.0228 - acc: 1.0000 - val_loss: 0.0929 - val_acc: 0.9000\n",
            "Epoch 35/35\n",
            "40/40 [==============================] - 1s 29ms/step - loss: 0.0484 - acc: 0.9750 - val_loss: 0.1338 - val_acc: 0.9000\n"
          ],
          "name": "stdout"
        }
      ]
    },
    {
      "cell_type": "code",
      "metadata": {
        "id": "dnedPUd9PUI8",
        "colab_type": "code",
        "colab": {}
      },
      "source": [
        "model.save('/content/drive/My Drive/Research project/Pre-trained_model_transfer.h5')"
      ],
      "execution_count": 0,
      "outputs": []
    },
    {
      "cell_type": "code",
      "metadata": {
        "id": "YhzecT9yj-uJ",
        "colab_type": "code",
        "outputId": "bd84d2b4-2619-43b1-8613-f82012301a7f",
        "colab": {
          "base_uri": "https://localhost:8080/",
          "height": 52
        }
      },
      "source": [
        "predictions = model.predict(validation_images)\n",
        "predictions_labels = numpy.argmax(predictions, axis=1)\n",
        "validation_labels = numpy.argmax(validation_labels, axis=1)\n",
        "cfm = confusion_matrix(validation_labels, predictions_labels)\n",
        "print (cfm)"
      ],
      "execution_count": 0,
      "outputs": [
        {
          "output_type": "stream",
          "text": [
            "[[5 1]\n",
            " [0 4]]\n"
          ],
          "name": "stdout"
        }
      ]
    }
  ]
}