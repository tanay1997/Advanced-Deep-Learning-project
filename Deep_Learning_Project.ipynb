{
  "nbformat": 4,
  "nbformat_minor": 0,
  "metadata": {
    "colab": {
      "name": "Deep Learning Project.ipynb",
      "provenance": [],
      "collapsed_sections": []
    },
    "kernelspec": {
      "name": "python2",
      "display_name": "Python 2"
    }
  },
  "cells": [
    {
      "cell_type": "code",
      "metadata": {
        "id": "4s0k9Vn1xVPn",
        "colab_type": "code",
        "outputId": "b62da402-3062-4b33-9d33-f4fa5b3ce9d0",
        "colab": {
          "base_uri": "https://localhost:8080/",
          "height": 125
        }
      },
      "source": [
        "from google.colab import drive\n",
        "drive.mount('/content/drive')"
      ],
      "execution_count": 1,
      "outputs": [
        {
          "output_type": "stream",
          "text": [
            "Go to this URL in a browser: https://accounts.google.com/o/oauth2/auth?client_id=947318989803-6bn6qk8qdgf4n4g3pfee6491hc0brc4i.apps.googleusercontent.com&redirect_uri=urn%3aietf%3awg%3aoauth%3a2.0%3aoob&response_type=code&scope=email%20https%3a%2f%2fwww.googleapis.com%2fauth%2fdocs.test%20https%3a%2f%2fwww.googleapis.com%2fauth%2fdrive%20https%3a%2f%2fwww.googleapis.com%2fauth%2fdrive.photos.readonly%20https%3a%2f%2fwww.googleapis.com%2fauth%2fpeopleapi.readonly\n",
            "\n",
            "Enter your authorization code:\n",
            "··········\n",
            "Mounted at /content/drive\n"
          ],
          "name": "stdout"
        }
      ]
    },
    {
      "cell_type": "code",
      "metadata": {
        "id": "7ls1S7tklhfK",
        "colab_type": "code",
        "outputId": "2f0f66c4-3aeb-4429-b4f5-5a0655dd1946",
        "colab": {
          "base_uri": "https://localhost:8080/",
          "height": 81
        }
      },
      "source": [
        "import os\n",
        "import cv2\n",
        "import numpy\n",
        "import imageio\n",
        "from sklearn.metrics import confusion_matrix\n",
        "from keras.models import Sequential\n",
        "from keras.layers.core import Dense, Dropout, Activation, Flatten\n",
        "from keras.layers.convolutional import Convolution3D, MaxPooling3D\n",
        "from keras.optimizers import SGD, RMSprop\n",
        "from keras.callbacks import ModelCheckpoint\n",
        "from keras.utils import np_utils, generic_utils\n",
        "from sklearn.model_selection import train_test_split\n",
        "from sklearn.metrics import confusion_matrix\n",
        "from sklearn import preprocessing\n",
        "from keras import backend as K\n",
        "import sys\n",
        "K.set_image_dim_ordering('th')"
      ],
      "execution_count": 2,
      "outputs": [
        {
          "output_type": "stream",
          "text": [
            "Using TensorFlow backend.\n"
          ],
          "name": "stderr"
        },
        {
          "output_type": "display_data",
          "data": {
            "text/plain": [
              "<IPython.core.display.HTML object>"
            ],
            "text/html": [
              "<p style=\"color: red;\">\n",
              "The default version of TensorFlow in Colab will soon switch to TensorFlow 2.x.<br>\n",
              "We recommend you <a href=\"https://www.tensorflow.org/guide/migrate\" target=\"_blank\">upgrade</a> now \n",
              "or ensure your notebook will continue to use TensorFlow 1.x via the <code>%tensorflow_version 1.x</code> magic:\n",
              "<a href=\"https://colab.research.google.com/notebooks/tensorflow_version.ipynb\" target=\"_blank\">more info</a>.</p>\n"
            ]
          },
          "metadata": {
            "tags": []
          }
        }
      ]
    },
    {
      "cell_type": "code",
      "metadata": {
        "id": "XMuISlVGlp3B",
        "colab_type": "code",
        "colab": {}
      },
      "source": [
        "image_rows, image_columns, image_depth = 64, 64, 18"
      ],
      "execution_count": 0,
      "outputs": []
    },
    {
      "cell_type": "code",
      "metadata": {
        "id": "q8XLOIfimGZe",
        "colab_type": "code",
        "colab": {}
      },
      "source": [
        "training_list = []\n",
        "painpath = '/content/drive/My Drive/Training Data/pain'\n",
        "Nopainpath = '/content/drive/My Drive/Training Data/Nopain'"
      ],
      "execution_count": 0,
      "outputs": []
    },
    {
      "cell_type": "code",
      "metadata": {
        "id": "P61YaafMmNro",
        "colab_type": "code",
        "colab": {}
      },
      "source": [
        "directorylisting = os.listdir(painpath)"
      ],
      "execution_count": 0,
      "outputs": []
    },
    {
      "cell_type": "code",
      "metadata": {
        "id": "VxDEZAkGmT3b",
        "colab_type": "code",
        "colab": {}
      },
      "source": [
        "for video in os.listdir(painpath):\n",
        "  videopath = os.path.join(painpath, video)\n",
        "  frames = []\n",
        "  for image_path in os.listdir(videopath):\n",
        "        input_path = os.path.join(videopath, image_path)\n",
        "        image = cv2.imread(input_path)\n",
        "        imageresize = cv2.resize(image, (image_rows, image_columns), interpolation = cv2.INTER_AREA)\n",
        "        grayimage = cv2.cvtColor(imageresize, cv2.COLOR_BGR2GRAY)\n",
        "        frames.append(grayimage)\n",
        "  frames = numpy.asarray(frames)\n",
        "  videoarray = numpy.rollaxis(numpy.rollaxis(frames, 2, 0), 2, 0)\n",
        "  training_list.append(videoarray)"
      ],
      "execution_count": 0,
      "outputs": []
    },
    {
      "cell_type": "code",
      "metadata": {
        "id": "AnpXOnbAqZ2f",
        "colab_type": "code",
        "outputId": "128c5c61-ddef-4728-fd7f-511b8948833f",
        "colab": {
          "base_uri": "https://localhost:8080/",
          "height": 34
        }
      },
      "source": [
        "len(training_list)"
      ],
      "execution_count": 7,
      "outputs": [
        {
          "output_type": "execute_result",
          "data": {
            "text/plain": [
              "6"
            ]
          },
          "metadata": {
            "tags": []
          },
          "execution_count": 7
        }
      ]
    },
    {
      "cell_type": "code",
      "metadata": {
        "id": "olPanCons5fF",
        "colab_type": "code",
        "colab": {}
      },
      "source": [
        "directorylisting = os.listdir(Nopainpath)"
      ],
      "execution_count": 0,
      "outputs": []
    },
    {
      "cell_type": "code",
      "metadata": {
        "id": "Ky6XEo6ztJmg",
        "colab_type": "code",
        "colab": {}
      },
      "source": [
        "for video in os.listdir(Nopainpath):\n",
        "  videopath = os.path.join(Nopainpath, video)\n",
        "  frames = []\n",
        "  for image_path in os.listdir(videopath):\n",
        "        input_path = os.path.join(videopath, image_path)\n",
        "        image = cv2.imread(input_path)\n",
        "        imageresize = cv2.resize(image, (image_rows, image_columns), interpolation = cv2.INTER_AREA)\n",
        "        grayimage = cv2.cvtColor(imageresize, cv2.COLOR_BGR2GRAY)\n",
        "        frames.append(grayimage)\n",
        "  frames = numpy.asarray(frames)\n",
        "  videoarray = numpy.rollaxis(numpy.rollaxis(frames, 2, 0), 2, 0)\n",
        "  training_list.append(videoarray)"
      ],
      "execution_count": 0,
      "outputs": []
    },
    {
      "cell_type": "code",
      "metadata": {
        "id": "6-C5vWfkt79r",
        "colab_type": "code",
        "outputId": "0bf556d4-a18b-4256-d9d8-8568f19adb82",
        "colab": {
          "base_uri": "https://localhost:8080/",
          "height": 34
        }
      },
      "source": [
        "len(training_list)"
      ],
      "execution_count": 10,
      "outputs": [
        {
          "output_type": "execute_result",
          "data": {
            "text/plain": [
              "12"
            ]
          },
          "metadata": {
            "tags": []
          },
          "execution_count": 10
        }
      ]
    },
    {
      "cell_type": "code",
      "metadata": {
        "id": "Z99VF2Yyt_nF",
        "colab_type": "code",
        "colab": {}
      },
      "source": [
        "training_list = numpy.asarray(training_list)\n",
        "trainingsamples = len(training_list)\n",
        "traininglabels = numpy.zeros((trainingsamples, ), dtype = int)"
      ],
      "execution_count": 0,
      "outputs": []
    },
    {
      "cell_type": "code",
      "metadata": {
        "id": "neIICc6KuRFg",
        "colab_type": "code",
        "colab": {}
      },
      "source": [
        "traininglabels[0:6] = 0\n",
        "traininglabels[6:12] = 1"
      ],
      "execution_count": 0,
      "outputs": []
    },
    {
      "cell_type": "code",
      "metadata": {
        "id": "BrYkhtEruqup",
        "colab_type": "code",
        "colab": {}
      },
      "source": [
        "traininglabels = np_utils.to_categorical(traininglabels, 2)"
      ],
      "execution_count": 0,
      "outputs": []
    },
    {
      "cell_type": "code",
      "metadata": {
        "id": "mruiC_CEuu6E",
        "colab_type": "code",
        "colab": {}
      },
      "source": [
        "training_data = [training_list, traininglabels]\n",
        "(trainingframes, traininglabels) = (training_data[0], training_data[1])\n",
        "training_set = numpy.zeros((trainingsamples, 1, image_rows, image_columns, image_depth))"
      ],
      "execution_count": 0,
      "outputs": []
    },
    {
      "cell_type": "code",
      "metadata": {
        "id": "P0MoGceJvOAe",
        "colab_type": "code",
        "outputId": "d0eaba2a-8d8d-4db4-91d8-ac954d55ac53",
        "colab": {
          "base_uri": "https://localhost:8080/",
          "height": 34
        }
      },
      "source": [
        "training_set.shape"
      ],
      "execution_count": 15,
      "outputs": [
        {
          "output_type": "execute_result",
          "data": {
            "text/plain": [
              "(12, 1, 64, 64, 18)"
            ]
          },
          "metadata": {
            "tags": []
          },
          "execution_count": 15
        }
      ]
    },
    {
      "cell_type": "code",
      "metadata": {
        "id": "eRoywyzBviU5",
        "colab_type": "code",
        "colab": {}
      },
      "source": [
        "for h in range(trainingsamples):\n",
        "    training_set[h][0][:][:][:] = trainingframes[h, :, :, :]"
      ],
      "execution_count": 0,
      "outputs": []
    },
    {
      "cell_type": "code",
      "metadata": {
        "id": "z2vyYd5Fvl5a",
        "colab_type": "code",
        "colab": {}
      },
      "source": [
        "training_set = training_set.astype('float32')\n",
        "training_set -= numpy.mean(training_set)\n",
        "training_set /= numpy.max(training_set)"
      ],
      "execution_count": 0,
      "outputs": []
    },
    {
      "cell_type": "code",
      "metadata": {
        "id": "RQjm1u_Sv-Kd",
        "colab_type": "code",
        "outputId": "32c255d9-5967-4729-f281-869eda75b4cc",
        "colab": {
          "base_uri": "https://localhost:8080/",
          "height": 534
        }
      },
      "source": [
        "model = Sequential()\n",
        "model.add(Convolution3D(4, (3, 3, 15), input_shape=(1, image_rows, image_columns, image_depth), activation='relu'))\n",
        "model.add(MaxPooling3D(pool_size=(3, 3, 3)))\n",
        "model.add(Dropout(0.5))\n",
        "model.add(Flatten())\n",
        "model.add(Dense(2, init='normal'))\n",
        "model.add(Activation('softmax'))"
      ],
      "execution_count": 18,
      "outputs": [
        {
          "output_type": "stream",
          "text": [
            "WARNING: Logging before flag parsing goes to stderr.\n",
            "W0315 05:20:10.197818 140366304855936 module_wrapper.py:139] From /usr/local/lib/python2.7/dist-packages/keras/backend/tensorflow_backend.py:74: The name tf.get_default_graph is deprecated. Please use tf.compat.v1.get_default_graph instead.\n",
            "\n",
            "W0315 05:20:10.209686 140366304855936 module_wrapper.py:139] From /usr/local/lib/python2.7/dist-packages/keras/backend/tensorflow_backend.py:517: The name tf.placeholder is deprecated. Please use tf.compat.v1.placeholder instead.\n",
            "\n",
            "W0315 05:20:10.215091 140366304855936 module_wrapper.py:139] From /usr/local/lib/python2.7/dist-packages/keras/backend/tensorflow_backend.py:4138: The name tf.random_uniform is deprecated. Please use tf.random.uniform instead.\n",
            "\n",
            "W0315 05:20:10.226079 140366304855936 module_wrapper.py:139] From /usr/local/lib/python2.7/dist-packages/keras/backend/tensorflow_backend.py:174: The name tf.get_default_session is deprecated. Please use tf.compat.v1.get_default_session instead.\n",
            "\n",
            "W0315 05:20:10.226974 140366304855936 module_wrapper.py:139] From /usr/local/lib/python2.7/dist-packages/keras/backend/tensorflow_backend.py:181: The name tf.ConfigProto is deprecated. Please use tf.compat.v1.ConfigProto instead.\n",
            "\n",
            "W0315 05:20:10.228107 140366304855936 module_wrapper.py:139] From /usr/local/lib/python2.7/dist-packages/keras/backend/tensorflow_backend.py:186: The name tf.Session is deprecated. Please use tf.compat.v1.Session instead.\n",
            "\n",
            "W0315 05:20:10.342092 140366304855936 module_wrapper.py:139] From /usr/local/lib/python2.7/dist-packages/keras/backend/tensorflow_backend.py:190: The name tf.global_variables is deprecated. Please use tf.compat.v1.global_variables instead.\n",
            "\n",
            "W0315 05:20:10.343583 140366304855936 module_wrapper.py:139] From /usr/local/lib/python2.7/dist-packages/keras/backend/tensorflow_backend.py:199: The name tf.is_variable_initialized is deprecated. Please use tf.compat.v1.is_variable_initialized instead.\n",
            "\n",
            "W0315 05:20:10.416307 140366304855936 module_wrapper.py:139] From /usr/local/lib/python2.7/dist-packages/keras/backend/tensorflow_backend.py:206: The name tf.variables_initializer is deprecated. Please use tf.compat.v1.variables_initializer instead.\n",
            "\n",
            "W0315 05:20:10.465224 140366304855936 module_wrapper.py:139] From /usr/local/lib/python2.7/dist-packages/keras/backend/tensorflow_backend.py:133: The name tf.placeholder_with_default is deprecated. Please use tf.compat.v1.placeholder_with_default instead.\n",
            "\n",
            "W0315 05:20:10.477264 140366304855936 deprecation.py:506] From /usr/local/lib/python2.7/dist-packages/keras/backend/tensorflow_backend.py:3445: calling dropout (from tensorflow.python.ops.nn_ops) with keep_prob is deprecated and will be removed in a future version.\n",
            "Instructions for updating:\n",
            "Please use `rate` instead of `keep_prob`. Rate should be set to `rate = 1 - keep_prob`.\n",
            "/usr/local/lib/python2.7/dist-packages/ipykernel_launcher.py:6: UserWarning: Update your `Dense` call to the Keras 2 API: `Dense(2, kernel_initializer=\"normal\")`\n",
            "  \n",
            "W0315 05:20:10.502299 140366304855936 module_wrapper.py:139] From /usr/local/lib/python2.7/dist-packages/keras/backend/tensorflow_backend.py:4115: The name tf.random_normal is deprecated. Please use tf.random.normal instead.\n",
            "\n"
          ],
          "name": "stderr"
        }
      ]
    },
    {
      "cell_type": "code",
      "metadata": {
        "id": "RNuKEuwIrAO-",
        "colab_type": "code",
        "outputId": "b8335547-a04e-4f76-aa98-ebc31ab233a7",
        "colab": {
          "base_uri": "https://localhost:8080/",
          "height": 354
        }
      },
      "source": [
        "model.compile(loss = 'categorical_crossentropy', optimizer = 'SGD', metrics = ['accuracy'])\n",
        "model.summary()"
      ],
      "execution_count": 20,
      "outputs": [
        {
          "output_type": "stream",
          "text": [
            "_________________________________________________________________\n",
            "Layer (type)                 Output Shape              Param #   \n",
            "=================================================================\n",
            "conv3d_1 (Conv3D)            (None, 4, 62, 62, 4)      544       \n",
            "_________________________________________________________________\n",
            "max_pooling3d_1 (MaxPooling3 (None, 4, 20, 20, 1)      0         \n",
            "_________________________________________________________________\n",
            "dropout_1 (Dropout)          (None, 4, 20, 20, 1)      0         \n",
            "_________________________________________________________________\n",
            "flatten_1 (Flatten)          (None, 1600)              0         \n",
            "_________________________________________________________________\n",
            "dense_1 (Dense)              (None, 2)                 3202      \n",
            "_________________________________________________________________\n",
            "activation_1 (Activation)    (None, 2)                 0         \n",
            "=================================================================\n",
            "Total params: 3,746\n",
            "Trainable params: 3,746\n",
            "Non-trainable params: 0\n",
            "_________________________________________________________________\n"
          ],
          "name": "stdout"
        }
      ]
    },
    {
      "cell_type": "code",
      "metadata": {
        "id": "dtiEQ5GTH6nc",
        "colab_type": "code",
        "colab": {}
      },
      "source": [
        "testing_list = []\n",
        "painpath = '/content/drive/My Drive/TestingData/pain'\n",
        "Nopainpath = '/content/drive/My Drive/TestingData/Nopain'"
      ],
      "execution_count": 0,
      "outputs": []
    },
    {
      "cell_type": "code",
      "metadata": {
        "id": "IuFi7KS69pK4",
        "colab_type": "code",
        "colab": {}
      },
      "source": [
        "for video in os.listdir(painpath):\n",
        "  videopath = os.path.join(painpath, video)\n",
        "  frames = []\n",
        "  for image_path in os.listdir(videopath):\n",
        "        input_path = os.path.join(videopath, image_path)\n",
        "        image = cv2.imread(input_path)\n",
        "        imageresize = cv2.resize(image, (image_rows, image_columns), interpolation = cv2.INTER_AREA)\n",
        "        grayimage = cv2.cvtColor(imageresize, cv2.COLOR_BGR2GRAY)\n",
        "        frames.append(grayimage)\n",
        "  frames = numpy.asarray(frames)\n",
        "  videoarray = numpy.rollaxis(numpy.rollaxis(frames, 2, 0), 2, 0)\n",
        "  testing_list.append(videoarray)"
      ],
      "execution_count": 0,
      "outputs": []
    },
    {
      "cell_type": "code",
      "metadata": {
        "id": "-LOX0EB39dqr",
        "colab_type": "code",
        "colab": {}
      },
      "source": [
        "for video in os.listdir(Nopainpath):\n",
        "  videopath = os.path.join(Nopainpath, video)\n",
        "  frames = []\n",
        "  for image_path in os.listdir(videopath):\n",
        "        input_path = os.path.join(videopath, image_path)\n",
        "        image = cv2.imread(input_path)\n",
        "        imageresize = cv2.resize(image, (image_rows, image_columns), interpolation = cv2.INTER_AREA)\n",
        "        grayimage = cv2.cvtColor(imageresize, cv2.COLOR_BGR2GRAY)\n",
        "        frames.append(grayimage)\n",
        "  frames = numpy.asarray(frames)\n",
        "  videoarray = numpy.rollaxis(numpy.rollaxis(frames, 2, 0), 2, 0)\n",
        "  testing_list.append(videoarray)"
      ],
      "execution_count": 0,
      "outputs": []
    },
    {
      "cell_type": "code",
      "metadata": {
        "id": "gz6WFXkr9dnY",
        "colab_type": "code",
        "outputId": "37991f85-a318-46aa-ce2c-9a954b05f451",
        "colab": {
          "base_uri": "https://localhost:8080/",
          "height": 34
        }
      },
      "source": [
        "len(testing_list)"
      ],
      "execution_count": 24,
      "outputs": [
        {
          "output_type": "execute_result",
          "data": {
            "text/plain": [
              "10"
            ]
          },
          "metadata": {
            "tags": []
          },
          "execution_count": 24
        }
      ]
    },
    {
      "cell_type": "code",
      "metadata": {
        "id": "sNF6NDq19djx",
        "colab_type": "code",
        "colab": {}
      },
      "source": [
        "testing_list = numpy.asarray(testing_list)\n",
        "testingsamples = len(testing_list)\n",
        "testinglabels = numpy.zeros((testingsamples, ), dtype = int)"
      ],
      "execution_count": 0,
      "outputs": []
    },
    {
      "cell_type": "code",
      "metadata": {
        "id": "Ek0UVe4A9df1",
        "colab_type": "code",
        "colab": {}
      },
      "source": [
        "testinglabels[0:5] = 0\n",
        "testinglabels[5:10] = 1"
      ],
      "execution_count": 0,
      "outputs": []
    },
    {
      "cell_type": "code",
      "metadata": {
        "id": "h27eHKnD9dbq",
        "colab_type": "code",
        "colab": {}
      },
      "source": [
        "testinglabels = np_utils.to_categorical(testinglabels, 2)"
      ],
      "execution_count": 0,
      "outputs": []
    },
    {
      "cell_type": "code",
      "metadata": {
        "id": "1DKAQyq1_kp1",
        "colab_type": "code",
        "colab": {}
      },
      "source": [
        "testing_data = [testing_list, testinglabels]\n",
        "(testingframes, testinglabels) = (testing_data[0], testing_data[1])\n",
        "testing_set = numpy.zeros((testingsamples, 1, image_rows, image_columns, image_depth))"
      ],
      "execution_count": 0,
      "outputs": []
    },
    {
      "cell_type": "code",
      "metadata": {
        "id": "ElZQQc5V-Diw",
        "colab_type": "code",
        "outputId": "62d6b067-c5fd-4e5d-975c-cab2bf08ed0c",
        "colab": {
          "base_uri": "https://localhost:8080/",
          "height": 34
        }
      },
      "source": [
        "testing_set.shape"
      ],
      "execution_count": 29,
      "outputs": [
        {
          "output_type": "execute_result",
          "data": {
            "text/plain": [
              "(10, 1, 64, 64, 18)"
            ]
          },
          "metadata": {
            "tags": []
          },
          "execution_count": 29
        }
      ]
    },
    {
      "cell_type": "code",
      "metadata": {
        "id": "1wFRhEPc-MFP",
        "colab_type": "code",
        "colab": {}
      },
      "source": [
        "for h in range(testingsamples):\n",
        "    testing_set[h][0][:][:][:] = testingframes[h, :, :, :]"
      ],
      "execution_count": 0,
      "outputs": []
    },
    {
      "cell_type": "code",
      "metadata": {
        "id": "jD31NvTx-PUV",
        "colab_type": "code",
        "colab": {}
      },
      "source": [
        "testing_set = testing_set.astype('float32')\n",
        "testing_set -= numpy.mean(testing_set)\n",
        "testing_set /= numpy.max(testing_set)"
      ],
      "execution_count": 0,
      "outputs": []
    },
    {
      "cell_type": "code",
      "metadata": {
        "id": "0OwnCKFOtQC-",
        "colab_type": "code",
        "outputId": "9decbae1-d940-45eb-b789-eadd86c8aa93",
        "colab": {
          "base_uri": "https://localhost:8080/",
          "height": 712
        }
      },
      "source": [
        "hist = model.fit(training_set, traininglabels, epochs = 15, validation_data = (testing_set, testinglabels), shuffle=True)"
      ],
      "execution_count": 32,
      "outputs": [
        {
          "output_type": "stream",
          "text": [
            "W0315 05:23:21.100992 140366304855936 deprecation.py:323] From /usr/local/lib/python2.7/dist-packages/tensorflow_core/python/ops/math_grad.py:1424: where (from tensorflow.python.ops.array_ops) is deprecated and will be removed in a future version.\n",
            "Instructions for updating:\n",
            "Use tf.where in 2.0, which has the same broadcast rule as np.where\n",
            "W0315 05:23:21.191500 140366304855936 module_wrapper.py:139] From /usr/local/lib/python2.7/dist-packages/keras/backend/tensorflow_backend.py:986: The name tf.assign_add is deprecated. Please use tf.compat.v1.assign_add instead.\n",
            "\n",
            "W0315 05:23:21.208056 140366304855936 module_wrapper.py:139] From /usr/local/lib/python2.7/dist-packages/keras/backend/tensorflow_backend.py:973: The name tf.assign is deprecated. Please use tf.compat.v1.assign instead.\n",
            "\n"
          ],
          "name": "stderr"
        },
        {
          "output_type": "stream",
          "text": [
            "Train on 12 samples, validate on 10 samples\n",
            "Epoch 1/15\n",
            "12/12 [==============================] - 1s 89ms/step - loss: 0.7905 - acc: 0.4167 - val_loss: 0.6543 - val_acc: 0.6000\n",
            "Epoch 2/15\n",
            "12/12 [==============================] - 1s 57ms/step - loss: 0.5915 - acc: 0.7500 - val_loss: 0.6217 - val_acc: 0.6000\n",
            "Epoch 3/15\n",
            "12/12 [==============================] - 1s 57ms/step - loss: 0.6897 - acc: 0.4167 - val_loss: 0.5864 - val_acc: 0.9000\n",
            "Epoch 4/15\n",
            "12/12 [==============================] - 1s 57ms/step - loss: 0.5294 - acc: 0.6667 - val_loss: 0.5630 - val_acc: 0.9000\n",
            "Epoch 5/15\n",
            "12/12 [==============================] - 1s 57ms/step - loss: 0.5167 - acc: 0.7500 - val_loss: 0.5417 - val_acc: 0.9000\n",
            "Epoch 6/15\n",
            "12/12 [==============================] - 1s 56ms/step - loss: 0.5179 - acc: 0.7500 - val_loss: 0.5201 - val_acc: 0.9000\n",
            "Epoch 7/15\n",
            "12/12 [==============================] - 1s 58ms/step - loss: 0.4296 - acc: 0.8333 - val_loss: 0.4900 - val_acc: 0.9000\n",
            "Epoch 8/15\n",
            "12/12 [==============================] - 1s 57ms/step - loss: 0.4081 - acc: 0.8333 - val_loss: 0.4668 - val_acc: 0.9000\n",
            "Epoch 9/15\n",
            "12/12 [==============================] - 1s 57ms/step - loss: 0.4795 - acc: 0.6667 - val_loss: 0.4397 - val_acc: 0.9000\n",
            "Epoch 10/15\n",
            "12/12 [==============================] - 1s 56ms/step - loss: 0.3799 - acc: 0.8333 - val_loss: 0.4108 - val_acc: 0.9000\n",
            "Epoch 11/15\n",
            "12/12 [==============================] - 1s 57ms/step - loss: 0.2831 - acc: 1.0000 - val_loss: 0.3871 - val_acc: 0.9000\n",
            "Epoch 12/15\n",
            "12/12 [==============================] - 1s 57ms/step - loss: 0.2908 - acc: 0.9167 - val_loss: 0.3616 - val_acc: 0.9000\n",
            "Epoch 13/15\n",
            "12/12 [==============================] - 1s 56ms/step - loss: 0.2406 - acc: 1.0000 - val_loss: 0.3321 - val_acc: 0.9000\n",
            "Epoch 14/15\n",
            "12/12 [==============================] - 1s 57ms/step - loss: 0.2409 - acc: 1.0000 - val_loss: 0.3018 - val_acc: 1.0000\n",
            "Epoch 15/15\n",
            "12/12 [==============================] - 1s 57ms/step - loss: 0.2138 - acc: 1.0000 - val_loss: 0.2752 - val_acc: 1.0000\n"
          ],
          "name": "stdout"
        }
      ]
    },
    {
      "cell_type": "code",
      "metadata": {
        "id": "aoytyLV4-PPN",
        "colab_type": "code",
        "colab": {}
      },
      "source": [
        "predictions = model.predict(testing_set)\n",
        "predictions_labels = numpy.argmax(predictions, axis=1)"
      ],
      "execution_count": 0,
      "outputs": []
    },
    {
      "cell_type": "code",
      "metadata": {
        "id": "lf1fpqDTAfHZ",
        "colab_type": "code",
        "outputId": "0903e0f7-0441-42e8-f012-855f358e0784",
        "colab": {
          "base_uri": "https://localhost:8080/",
          "height": 34
        }
      },
      "source": [
        "predictions_labels"
      ],
      "execution_count": 34,
      "outputs": [
        {
          "output_type": "execute_result",
          "data": {
            "text/plain": [
              "array([0, 0, 0, 0, 0, 1, 1, 1, 1, 1])"
            ]
          },
          "metadata": {
            "tags": []
          },
          "execution_count": 34
        }
      ]
    },
    {
      "cell_type": "code",
      "metadata": {
        "id": "czLtEfgJ8mn-",
        "colab_type": "code",
        "colab": {}
      },
      "source": [
        "testinglabels = numpy.argmax(testinglabels, axis=1)"
      ],
      "execution_count": 0,
      "outputs": []
    },
    {
      "cell_type": "code",
      "metadata": {
        "id": "PV71FHM0phQ5",
        "colab_type": "code",
        "colab": {
          "base_uri": "https://localhost:8080/",
          "height": 34
        },
        "outputId": "b1bbf203-c1dd-44e9-b0b4-a27c3685702c"
      },
      "source": [
        "testinglabels"
      ],
      "execution_count": 36,
      "outputs": [
        {
          "output_type": "execute_result",
          "data": {
            "text/plain": [
              "array([0, 0, 0, 0, 0, 1, 1, 1, 1, 1])"
            ]
          },
          "metadata": {
            "tags": []
          },
          "execution_count": 36
        }
      ]
    },
    {
      "cell_type": "code",
      "metadata": {
        "id": "GVpR-vpcnz09",
        "colab_type": "code",
        "colab": {
          "base_uri": "https://localhost:8080/",
          "height": 52
        },
        "outputId": "2c0cc99c-4383-4594-c860-00d069ce69b0"
      },
      "source": [
        "cfm = confusion_matrix(testinglabels, predictions_labels)\n",
        "print (cfm)"
      ],
      "execution_count": 38,
      "outputs": [
        {
          "output_type": "stream",
          "text": [
            "[[5 0]\n",
            " [0 5]]\n"
          ],
          "name": "stdout"
        }
      ]
    }
  ]
}