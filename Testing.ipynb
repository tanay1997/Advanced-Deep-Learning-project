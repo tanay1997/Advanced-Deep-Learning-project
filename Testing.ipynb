{
  "nbformat": 4,
  "nbformat_minor": 0,
  "metadata": {
    "colab": {
      "name": "Testing.ipynb",
      "provenance": [],
      "collapsed_sections": []
    },
    "kernelspec": {
      "name": "python3",
      "display_name": "Python 3"
    }
  },
  "cells": [
    {
      "cell_type": "code",
      "metadata": {
        "id": "rBnluWcPQg6z",
        "colab_type": "code",
        "colab": {
          "base_uri": "https://localhost:8080/",
          "height": 54
        },
        "outputId": "289b977c-e19f-4a8a-f83b-1306d0e4be5b"
      },
      "source": [
        "from google.colab import drive\n",
        "drive.mount('/content/drive')"
      ],
      "execution_count": 4,
      "outputs": [
        {
          "output_type": "stream",
          "text": [
            "Drive already mounted at /content/drive; to attempt to forcibly remount, call drive.mount(\"/content/drive\", force_remount=True).\n"
          ],
          "name": "stdout"
        }
      ]
    },
    {
      "cell_type": "code",
      "metadata": {
        "id": "2jKb1H-dQk95",
        "colab_type": "code",
        "colab": {
          "base_uri": "https://localhost:8080/",
          "height": 80
        },
        "outputId": "d91675bb-921e-440a-a603-ad5135a9e1fd"
      },
      "source": [
        "from keras.models import load_model"
      ],
      "execution_count": 2,
      "outputs": [
        {
          "output_type": "stream",
          "text": [
            "Using TensorFlow backend.\n"
          ],
          "name": "stderr"
        },
        {
          "output_type": "display_data",
          "data": {
            "text/html": [
              "<p style=\"color: red;\">\n",
              "The default version of TensorFlow in Colab will soon switch to TensorFlow 2.x.<br>\n",
              "We recommend you <a href=\"https://www.tensorflow.org/guide/migrate\" target=\"_blank\">upgrade</a> now \n",
              "or ensure your notebook will continue to use TensorFlow 1.x via the <code>%tensorflow_version 1.x</code> magic:\n",
              "<a href=\"https://colab.research.google.com/notebooks/tensorflow_version.ipynb\" target=\"_blank\">more info</a>.</p>\n"
            ],
            "text/plain": [
              "<IPython.core.display.HTML object>"
            ]
          },
          "metadata": {
            "tags": []
          }
        }
      ]
    },
    {
      "cell_type": "code",
      "metadata": {
        "id": "8hGZyeszcIz-",
        "colab_type": "code",
        "colab": {}
      },
      "source": [
        "import os\n",
        "import cv2\n",
        "import numpy\n",
        "import imageio\n",
        "from sklearn.metrics import confusion_matrix\n",
        "from keras.models import Sequential\n",
        "from keras.layers.core import Dense, Dropout, Activation, Flatten\n",
        "from keras.layers.convolutional import Convolution3D, MaxPooling3D\n",
        "from keras.optimizers import SGD, RMSprop\n",
        "from keras.callbacks import ModelCheckpoint\n",
        "from keras.utils import np_utils, generic_utils\n",
        "from sklearn.model_selection import train_test_split\n",
        "from sklearn.metrics import confusion_matrix\n",
        "from sklearn import preprocessing\n",
        "from keras import backend as K\n",
        "import sys\n"
      ],
      "execution_count": 0,
      "outputs": []
    },
    {
      "cell_type": "code",
      "metadata": {
        "id": "tY8aZ56jcSP-",
        "colab_type": "code",
        "colab": {}
      },
      "source": [
        "image_rows, image_columns, image_depth = 64, 64, 18"
      ],
      "execution_count": 0,
      "outputs": []
    },
    {
      "cell_type": "code",
      "metadata": {
        "id": "PDT7iApKQvvN",
        "colab_type": "code",
        "colab": {
          "base_uri": "https://localhost:8080/",
          "height": 649
        },
        "outputId": "69681e63-0e74-4ef5-fd1c-04d8fcbce0df"
      },
      "source": [
        "hist = load_model('/content/drive/My Drive/Research project/Pre-trained_model.h5')"
      ],
      "execution_count": 3,
      "outputs": [
        {
          "output_type": "stream",
          "text": [
            "WARNING:tensorflow:From /usr/local/lib/python3.6/dist-packages/keras/backend/tensorflow_backend.py:541: The name tf.placeholder is deprecated. Please use tf.compat.v1.placeholder instead.\n",
            "\n",
            "WARNING:tensorflow:From /usr/local/lib/python3.6/dist-packages/keras/backend/tensorflow_backend.py:4432: The name tf.random_uniform is deprecated. Please use tf.random.uniform instead.\n",
            "\n",
            "WARNING:tensorflow:From /usr/local/lib/python3.6/dist-packages/keras/backend/tensorflow_backend.py:66: The name tf.get_default_graph is deprecated. Please use tf.compat.v1.get_default_graph instead.\n",
            "\n",
            "WARNING:tensorflow:From /usr/local/lib/python3.6/dist-packages/keras/backend/tensorflow_backend.py:190: The name tf.get_default_session is deprecated. Please use tf.compat.v1.get_default_session instead.\n",
            "\n",
            "WARNING:tensorflow:From /usr/local/lib/python3.6/dist-packages/keras/backend/tensorflow_backend.py:197: The name tf.ConfigProto is deprecated. Please use tf.compat.v1.ConfigProto instead.\n",
            "\n",
            "WARNING:tensorflow:From /usr/local/lib/python3.6/dist-packages/keras/backend/tensorflow_backend.py:203: The name tf.Session is deprecated. Please use tf.compat.v1.Session instead.\n",
            "\n",
            "WARNING:tensorflow:From /usr/local/lib/python3.6/dist-packages/keras/backend/tensorflow_backend.py:207: The name tf.global_variables is deprecated. Please use tf.compat.v1.global_variables instead.\n",
            "\n",
            "WARNING:tensorflow:From /usr/local/lib/python3.6/dist-packages/keras/backend/tensorflow_backend.py:216: The name tf.is_variable_initialized is deprecated. Please use tf.compat.v1.is_variable_initialized instead.\n",
            "\n",
            "WARNING:tensorflow:From /usr/local/lib/python3.6/dist-packages/keras/backend/tensorflow_backend.py:223: The name tf.variables_initializer is deprecated. Please use tf.compat.v1.variables_initializer instead.\n",
            "\n",
            "WARNING:tensorflow:From /usr/local/lib/python3.6/dist-packages/keras/backend/tensorflow_backend.py:148: The name tf.placeholder_with_default is deprecated. Please use tf.compat.v1.placeholder_with_default instead.\n",
            "\n",
            "WARNING:tensorflow:From /usr/local/lib/python3.6/dist-packages/keras/backend/tensorflow_backend.py:3733: calling dropout (from tensorflow.python.ops.nn_ops) with keep_prob is deprecated and will be removed in a future version.\n",
            "Instructions for updating:\n",
            "Please use `rate` instead of `keep_prob`. Rate should be set to `rate = 1 - keep_prob`.\n",
            "WARNING:tensorflow:From /usr/local/lib/python3.6/dist-packages/keras/backend/tensorflow_backend.py:4409: The name tf.random_normal is deprecated. Please use tf.random.normal instead.\n",
            "\n",
            "WARNING:tensorflow:From /usr/local/lib/python3.6/dist-packages/keras/optimizers.py:793: The name tf.train.Optimizer is deprecated. Please use tf.compat.v1.train.Optimizer instead.\n",
            "\n",
            "WARNING:tensorflow:From /usr/local/lib/python3.6/dist-packages/keras/backend/tensorflow_backend.py:3576: The name tf.log is deprecated. Please use tf.math.log instead.\n",
            "\n",
            "WARNING:tensorflow:From /tensorflow-1.15.0/python3.6/tensorflow_core/python/ops/math_grad.py:1424: where (from tensorflow.python.ops.array_ops) is deprecated and will be removed in a future version.\n",
            "Instructions for updating:\n",
            "Use tf.where in 2.0, which has the same broadcast rule as np.where\n",
            "WARNING:tensorflow:From /usr/local/lib/python3.6/dist-packages/keras/backend/tensorflow_backend.py:1033: The name tf.assign_add is deprecated. Please use tf.compat.v1.assign_add instead.\n",
            "\n",
            "WARNING:tensorflow:From /usr/local/lib/python3.6/dist-packages/keras/backend/tensorflow_backend.py:1020: The name tf.assign is deprecated. Please use tf.compat.v1.assign instead.\n",
            "\n"
          ],
          "name": "stdout"
        }
      ]
    },
    {
      "cell_type": "code",
      "metadata": {
        "id": "RGOj_Mo1RBuY",
        "colab_type": "code",
        "colab": {}
      },
      "source": [
        "testing_list = []\n",
        "painpath = '/content/drive/My Drive/TestingData/pain'\n",
        "Nopainpath = '/content/drive/My Drive/TestingData/Nopain'"
      ],
      "execution_count": 0,
      "outputs": []
    },
    {
      "cell_type": "code",
      "metadata": {
        "id": "Tgy2r3LdSWZ4",
        "colab_type": "code",
        "colab": {}
      },
      "source": [
        "for video in os.listdir(painpath):\n",
        "  videopath = os.path.join(painpath, video)\n",
        "  frames = []\n",
        "  for image_path in os.listdir(videopath):\n",
        "        input_path = os.path.join(videopath, image_path)\n",
        "        image = cv2.imread(input_path)\n",
        "        imageresize = cv2.resize(image, (image_rows, image_columns), interpolation = cv2.INTER_AREA)\n",
        "        grayimage = cv2.cvtColor(imageresize, cv2.COLOR_BGR2GRAY)\n",
        "        frames.append(grayimage)\n",
        "  frames = numpy.asarray(frames)\n",
        "  videoarray = numpy.rollaxis(numpy.rollaxis(frames, 2, 0), 2, 0)\n",
        "  testing_list.append(videoarray)"
      ],
      "execution_count": 0,
      "outputs": []
    },
    {
      "cell_type": "code",
      "metadata": {
        "id": "Rh8CqI7PTItg",
        "colab_type": "code",
        "colab": {}
      },
      "source": [
        "n1 = len(testing_list)"
      ],
      "execution_count": 0,
      "outputs": []
    },
    {
      "cell_type": "code",
      "metadata": {
        "id": "8JUtwIDoSZJv",
        "colab_type": "code",
        "colab": {}
      },
      "source": [
        "for video in os.listdir(Nopainpath):\n",
        "  videopath = os.path.join(Nopainpath, video)\n",
        "  frames = []\n",
        "  for image_path in os.listdir(videopath):\n",
        "        input_path = os.path.join(videopath, image_path)\n",
        "        image = cv2.imread(input_path)\n",
        "        imageresize = cv2.resize(image, (image_rows, image_columns), interpolation = cv2.INTER_AREA)\n",
        "        grayimage = cv2.cvtColor(imageresize, cv2.COLOR_BGR2GRAY)\n",
        "        frames.append(grayimage)\n",
        "  frames = numpy.asarray(frames)\n",
        "  videoarray = numpy.rollaxis(numpy.rollaxis(frames, 2, 0), 2, 0)\n",
        "  testing_list.append(videoarray)"
      ],
      "execution_count": 0,
      "outputs": []
    },
    {
      "cell_type": "code",
      "metadata": {
        "id": "37NkentATOgu",
        "colab_type": "code",
        "colab": {}
      },
      "source": [
        "n2 = len(testing_list)"
      ],
      "execution_count": 0,
      "outputs": []
    },
    {
      "cell_type": "code",
      "metadata": {
        "id": "mwk5B6lGSd6T",
        "colab_type": "code",
        "colab": {}
      },
      "source": [
        "testing_list = numpy.asarray(testing_list)\n",
        "testingsamples = len(testing_list)\n",
        "testinglabels = numpy.zeros((testingsamples, ), dtype = int)"
      ],
      "execution_count": 0,
      "outputs": []
    },
    {
      "cell_type": "code",
      "metadata": {
        "id": "VmbBOVeESiYl",
        "colab_type": "code",
        "colab": {}
      },
      "source": [
        "testinglabels[0:n1] = 0\n",
        "testinglabels[n1:n2] = 1"
      ],
      "execution_count": 0,
      "outputs": []
    },
    {
      "cell_type": "code",
      "metadata": {
        "id": "I0hb_uO2SyrX",
        "colab_type": "code",
        "colab": {}
      },
      "source": [
        "testinglabels = np_utils.to_categorical(testinglabels, 2)"
      ],
      "execution_count": 0,
      "outputs": []
    },
    {
      "cell_type": "code",
      "metadata": {
        "id": "5wKsPd7ASzin",
        "colab_type": "code",
        "colab": {}
      },
      "source": [
        "testing_data = [testing_list, testinglabels]\n",
        "(testingframes, testinglabels) = (testing_data[0], testing_data[1])\n",
        "testing_set = numpy.zeros((testingsamples, 1, image_rows, image_columns, image_depth))"
      ],
      "execution_count": 0,
      "outputs": []
    },
    {
      "cell_type": "code",
      "metadata": {
        "id": "CWIPQdzcS2YB",
        "colab_type": "code",
        "colab": {
          "base_uri": "https://localhost:8080/",
          "height": 34
        },
        "outputId": "1ae6774c-451a-4883-a415-3ea46884f77a"
      },
      "source": [
        "testing_set.shape"
      ],
      "execution_count": 21,
      "outputs": [
        {
          "output_type": "execute_result",
          "data": {
            "text/plain": [
              "(10, 1, 64, 64, 18)"
            ]
          },
          "metadata": {
            "tags": []
          },
          "execution_count": 21
        }
      ]
    },
    {
      "cell_type": "code",
      "metadata": {
        "id": "au521Uh8S478",
        "colab_type": "code",
        "colab": {}
      },
      "source": [
        "for h in range(testingsamples):\n",
        "    testing_set[h][0][:][:][:] = testingframes[h, :, :, :]"
      ],
      "execution_count": 0,
      "outputs": []
    },
    {
      "cell_type": "code",
      "metadata": {
        "id": "9LUsG5lMS77U",
        "colab_type": "code",
        "colab": {}
      },
      "source": [
        "testing_set = testing_set.astype('float32')\n",
        "testing_set -= numpy.mean(testing_set)\n",
        "testing_set /= numpy.max(testing_set)"
      ],
      "execution_count": 0,
      "outputs": []
    },
    {
      "cell_type": "code",
      "metadata": {
        "id": "DuZ_C14HTDJR",
        "colab_type": "code",
        "colab": {}
      },
      "source": [
        "predictions = hist.predict(testing_set)\n",
        "predictions_labels = numpy.argmax(predictions, axis=1)"
      ],
      "execution_count": 0,
      "outputs": []
    },
    {
      "cell_type": "code",
      "metadata": {
        "id": "e4_c_vDPdgMn",
        "colab_type": "code",
        "colab": {}
      },
      "source": [
        "testinglabels = numpy.argmax(testinglabels, axis=1)"
      ],
      "execution_count": 0,
      "outputs": []
    },
    {
      "cell_type": "code",
      "metadata": {
        "id": "IL2buRwPTGXG",
        "colab_type": "code",
        "colab": {
          "base_uri": "https://localhost:8080/",
          "height": 51
        },
        "outputId": "98ebb4e2-5f55-4552-9fb0-4c43b6e6cbbf"
      },
      "source": [
        "cfm = confusion_matrix(testinglabels, predictions_labels)\n",
        "print (cfm)"
      ],
      "execution_count": 30,
      "outputs": [
        {
          "output_type": "stream",
          "text": [
            "[[5 0]\n",
            " [0 5]]\n"
          ],
          "name": "stdout"
        }
      ]
    }
  ]
}